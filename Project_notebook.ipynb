{
 "cells": [
  {
   "cell_type": "markdown",
   "metadata": {},
   "source": [
    "# PROYECTO GRUPAL DGA\n",
    "\n",
    "    GRUPO 2\n",
    "\n",
    "    Integrantes:\n",
    "        - Juan Pablo Heredia Castelló | jpheredia.edu@gmail.com\n"
   ]
  },
  {
   "cell_type": "markdown",
   "metadata": {},
   "source": [
    "# 1. IMPORTACIÓN DE LIBRERÍAS\n"
   ]
  },
  {
   "cell_type": "code",
   "execution_count": 1,
   "metadata": {},
   "outputs": [],
   "source": [
    "import pandas as pd\n",
    "import numpy as np\n",
    "import seaborn as sns\n",
    "import matplotlib.pyplot as plt"
   ]
  },
  {
   "cell_type": "markdown",
   "metadata": {},
   "source": [
    "# 2. IMPORTACIÓN Y PRIMERA INSPECCIÓN DE DATOS"
   ]
  },
  {
   "cell_type": "code",
   "execution_count": 8,
   "metadata": {},
   "outputs": [
    {
     "data": {
      "text/html": [
       "<div>\n",
       "<style scoped>\n",
       "    .dataframe tbody tr th:only-of-type {\n",
       "        vertical-align: middle;\n",
       "    }\n",
       "\n",
       "    .dataframe tbody tr th {\n",
       "        vertical-align: top;\n",
       "    }\n",
       "\n",
       "    .dataframe thead th {\n",
       "        text-align: right;\n",
       "    }\n",
       "</style>\n",
       "<table border=\"1\" class=\"dataframe\">\n",
       "  <thead>\n",
       "    <tr style=\"text-align: right;\">\n",
       "      <th></th>\n",
       "      <th>lenght</th>\n",
       "      <th>ngram_count</th>\n",
       "      <th>entropy</th>\n",
       "      <th>type</th>\n",
       "    </tr>\n",
       "  </thead>\n",
       "  <tbody>\n",
       "    <tr>\n",
       "      <th>0</th>\n",
       "      <td>continuous</td>\n",
       "      <td>continuous</td>\n",
       "      <td>continuous</td>\n",
       "      <td>discrete</td>\n",
       "    </tr>\n",
       "    <tr>\n",
       "      <th>1</th>\n",
       "      <td>NaN</td>\n",
       "      <td>NaN</td>\n",
       "      <td>NaN</td>\n",
       "      <td>class</td>\n",
       "    </tr>\n",
       "    <tr>\n",
       "      <th>2</th>\n",
       "      <td>25.0</td>\n",
       "      <td>0.9030899869919435</td>\n",
       "      <td>4.053660689688185</td>\n",
       "      <td>dga</td>\n",
       "    </tr>\n",
       "    <tr>\n",
       "      <th>3</th>\n",
       "      <td>26.0</td>\n",
       "      <td>0.8450980400142568</td>\n",
       "      <td>3.9500637564362093</td>\n",
       "      <td>dga</td>\n",
       "    </tr>\n",
       "    <tr>\n",
       "      <th>4</th>\n",
       "      <td>12.0</td>\n",
       "      <td>2.9030899869919438</td>\n",
       "      <td>3.188721875540867</td>\n",
       "      <td>dga</td>\n",
       "    </tr>\n",
       "  </tbody>\n",
       "</table>\n",
       "</div>"
      ],
      "text/plain": [
       "       lenght         ngram_count             entropy      type\n",
       "0  continuous          continuous          continuous  discrete\n",
       "1         NaN                 NaN                 NaN     class\n",
       "2        25.0  0.9030899869919435   4.053660689688185       dga\n",
       "3        26.0  0.8450980400142568  3.9500637564362093       dga\n",
       "4        12.0  2.9030899869919438   3.188721875540867       dga"
      ]
     },
     "execution_count": 8,
     "metadata": {},
     "output_type": "execute_result"
    }
   ],
   "source": [
    "df = pd.read_csv(\"dga_dataset_safe.csv\", sep=\",\", encoding=\"utf-8\")\n",
    "\n",
    "df.head()\n"
   ]
  },
  {
   "cell_type": "code",
   "execution_count": 7,
   "metadata": {},
   "outputs": [
    {
     "data": {
      "text/html": [
       "<div>\n",
       "<style scoped>\n",
       "    .dataframe tbody tr th:only-of-type {\n",
       "        vertical-align: middle;\n",
       "    }\n",
       "\n",
       "    .dataframe tbody tr th {\n",
       "        vertical-align: top;\n",
       "    }\n",
       "\n",
       "    .dataframe thead th {\n",
       "        text-align: right;\n",
       "    }\n",
       "</style>\n",
       "<table border=\"1\" class=\"dataframe\">\n",
       "  <thead>\n",
       "    <tr style=\"text-align: right;\">\n",
       "      <th></th>\n",
       "      <th>lenght</th>\n",
       "      <th>ngram_count</th>\n",
       "      <th>entropy</th>\n",
       "      <th>type</th>\n",
       "    </tr>\n",
       "  </thead>\n",
       "  <tbody>\n",
       "    <tr>\n",
       "      <th>24070</th>\n",
       "      <td>7.0</td>\n",
       "      <td>7.3153824963149905</td>\n",
       "      <td>2.8073549220576046</td>\n",
       "      <td>legit</td>\n",
       "    </tr>\n",
       "    <tr>\n",
       "      <th>24071</th>\n",
       "      <td>14.0</td>\n",
       "      <td>39.85682442887054</td>\n",
       "      <td>3.2359263506290334</td>\n",
       "      <td>legit</td>\n",
       "    </tr>\n",
       "    <tr>\n",
       "      <th>24072</th>\n",
       "      <td>26.0</td>\n",
       "      <td>0.9030899869919435</td>\n",
       "      <td>4.286790198827112</td>\n",
       "      <td>dga</td>\n",
       "    </tr>\n",
       "    <tr>\n",
       "      <th>24073</th>\n",
       "      <td>10.0</td>\n",
       "      <td>12.978671778835801</td>\n",
       "      <td>3.121928094887362</td>\n",
       "      <td>legit</td>\n",
       "    </tr>\n",
       "    <tr>\n",
       "      <th>24074</th>\n",
       "      <td>27.0</td>\n",
       "      <td>0.3010299956639812</td>\n",
       "      <td>4.134336113194452</td>\n",
       "      <td>dga</td>\n",
       "    </tr>\n",
       "  </tbody>\n",
       "</table>\n",
       "</div>"
      ],
      "text/plain": [
       "      lenght         ngram_count             entropy   type\n",
       "24070    7.0  7.3153824963149905  2.8073549220576046  legit\n",
       "24071   14.0   39.85682442887054  3.2359263506290334  legit\n",
       "24072   26.0  0.9030899869919435   4.286790198827112    dga\n",
       "24073   10.0  12.978671778835801   3.121928094887362  legit\n",
       "24074   27.0  0.3010299956639812   4.134336113194452    dga"
      ]
     },
     "execution_count": 7,
     "metadata": {},
     "output_type": "execute_result"
    }
   ],
   "source": [
    "df.tail()\n"
   ]
  },
  {
   "cell_type": "markdown",
   "metadata": {},
   "source": [
    "Hay 2 valores en la columna \"type\" que son \"discrete\" y \"class\" que parecen ser una forma de clasificar el tipo de datos de dicha columna, se comprueba esto a continuación"
   ]
  },
  {
   "cell_type": "code",
   "execution_count": 24,
   "metadata": {},
   "outputs": [
    {
     "name": "stdout",
     "output_type": "stream",
     "text": [
      "Discrete:  1\n",
      "Class:  1\n"
     ]
    }
   ],
   "source": [
    "\n",
    "# Contar la cantidad de valores \"discrete\" y \"class\" en la columna \"type\"\n",
    "print(\"Discrete: \", (df[\"type\"] == \"discrete\").sum())\n",
    "print(\"Class: \", (df[\"type\"] == \"class\").sum())\n"
   ]
  },
  {
   "cell_type": "markdown",
   "metadata": {},
   "source": [
    "Como estos solo aparecen 1 vez, se pueden eliminar la columna \"type\"\n"
   ]
  },
  {
   "cell_type": "code",
   "execution_count": 26,
   "metadata": {},
   "outputs": [
    {
     "data": {
      "text/html": [
       "<div>\n",
       "<style scoped>\n",
       "    .dataframe tbody tr th:only-of-type {\n",
       "        vertical-align: middle;\n",
       "    }\n",
       "\n",
       "    .dataframe tbody tr th {\n",
       "        vertical-align: top;\n",
       "    }\n",
       "\n",
       "    .dataframe thead th {\n",
       "        text-align: right;\n",
       "    }\n",
       "</style>\n",
       "<table border=\"1\" class=\"dataframe\">\n",
       "  <thead>\n",
       "    <tr style=\"text-align: right;\">\n",
       "      <th></th>\n",
       "      <th>lenght</th>\n",
       "      <th>ngram_count</th>\n",
       "      <th>entropy</th>\n",
       "      <th>type</th>\n",
       "    </tr>\n",
       "  </thead>\n",
       "  <tbody>\n",
       "    <tr>\n",
       "      <th>0</th>\n",
       "      <td>12.0</td>\n",
       "      <td>2.9030899869919438</td>\n",
       "      <td>3.188721875540867</td>\n",
       "      <td>dga</td>\n",
       "    </tr>\n",
       "    <tr>\n",
       "      <th>1</th>\n",
       "      <td>9.0</td>\n",
       "      <td>15.023867217706147</td>\n",
       "      <td>2.94770277922009</td>\n",
       "      <td>legit</td>\n",
       "    </tr>\n",
       "    <tr>\n",
       "      <th>2</th>\n",
       "      <td>10.0</td>\n",
       "      <td>24.764260381085812</td>\n",
       "      <td>2.9219280948873623</td>\n",
       "      <td>legit</td>\n",
       "    </tr>\n",
       "    <tr>\n",
       "      <th>3</th>\n",
       "      <td>34.0</td>\n",
       "      <td>0.9030899869919435</td>\n",
       "      <td>3.5617480476936567</td>\n",
       "      <td>dga</td>\n",
       "    </tr>\n",
       "    <tr>\n",
       "      <th>4</th>\n",
       "      <td>11.0</td>\n",
       "      <td>25.992512101388876</td>\n",
       "      <td>3.095795255000934</td>\n",
       "      <td>legit</td>\n",
       "    </tr>\n",
       "  </tbody>\n",
       "</table>\n",
       "</div>"
      ],
      "text/plain": [
       "  lenght         ngram_count             entropy   type\n",
       "0   12.0  2.9030899869919438   3.188721875540867    dga\n",
       "1    9.0  15.023867217706147    2.94770277922009  legit\n",
       "2   10.0  24.764260381085812  2.9219280948873623  legit\n",
       "3   34.0  0.9030899869919435  3.5617480476936567    dga\n",
       "4   11.0  25.992512101388876   3.095795255000934  legit"
      ]
     },
     "execution_count": 26,
     "metadata": {},
     "output_type": "execute_result"
    }
   ],
   "source": [
    "# Eliminar las 2 primeras filas del dataset\n",
    "df = df.iloc[2:].reset_index(drop=True) # Usar reset_index para que los cambios se guarden directamente en el dataframe\n",
    "\n",
    "# Verificar que las filas se hayan eliminado correctamente\n",
    "df.head()\n",
    "\n"
   ]
  },
  {
   "cell_type": "code",
   "execution_count": 27,
   "metadata": {},
   "outputs": [
    {
     "name": "stdout",
     "output_type": "stream",
     "text": [
      "<class 'pandas.core.frame.DataFrame'>\n",
      "RangeIndex: 24071 entries, 0 to 24070\n",
      "Data columns (total 4 columns):\n",
      " #   Column       Non-Null Count  Dtype \n",
      "---  ------       --------------  ----- \n",
      " 0   lenght       24071 non-null  object\n",
      " 1   ngram_count  24071 non-null  object\n",
      " 2   entropy      24071 non-null  object\n",
      " 3   type         24071 non-null  object\n",
      "dtypes: object(4)\n",
      "memory usage: 752.3+ KB\n"
     ]
    }
   ],
   "source": [
    "df.info()"
   ]
  }
 ],
 "metadata": {
  "kernelspec": {
   "display_name": "Python 3",
   "language": "python",
   "name": "python3"
  },
  "language_info": {
   "codemirror_mode": {
    "name": "ipython",
    "version": 3
   },
   "file_extension": ".py",
   "mimetype": "text/x-python",
   "name": "python",
   "nbconvert_exporter": "python",
   "pygments_lexer": "ipython3",
   "version": "3.12.0"
  }
 },
 "nbformat": 4,
 "nbformat_minor": 2
}
